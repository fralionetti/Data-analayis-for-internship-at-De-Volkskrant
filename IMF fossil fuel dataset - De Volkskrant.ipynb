{
 "cells": [
  {
   "cell_type": "code",
   "execution_count": 1,
   "id": "c9f44fa3",
   "metadata": {},
   "outputs": [
    {
     "name": "stdout",
     "output_type": "stream",
     "text": [
      "   countryname countrycode      region incomelevel scenario  year  \\\n",
      "0  Afghanistan         AFG  South Asia         LIC       U1  2015   \n",
      "1  Afghanistan         AFG  South Asia         LIC       U1  2016   \n",
      "2  Afghanistan         AFG  South Asia         LIC       U1  2017   \n",
      "3  Afghanistan         AFG  South Asia         LIC       U1  2018   \n",
      "4  Afghanistan         AFG  South Asia         LIC       U1  2019   \n",
      "\n",
      "   mit.gdp.pre.lvl.1  mit.pop.mn  mit.ghg.tot.exc.1  mit.ghg.tot.inc.1  ...  \\\n",
      "0          22.677444      33.361                NaN                NaN  ...   \n",
      "1          20.172496      34.146                NaN                NaN  ...   \n",
      "2          20.744658      35.126                NaN                NaN  ...   \n",
      "3          19.744015      36.161                NaN                NaN  ...   \n",
      "4          20.516000      37.213              40.41             40.565  ...   \n",
      "\n",
      "   mit.vatrate.gso.all  mit.vatrate.die.all  mit.vatrate.lpg.all  \\\n",
      "0                  0.0                  0.0                  0.0   \n",
      "1                  0.0                  0.0                  0.0   \n",
      "2                  0.0                  0.0                  0.0   \n",
      "3                  0.0                  0.0                  0.0   \n",
      "4                  0.0                  0.0                  0.0   \n",
      "\n",
      "   mit.vatrate.ker.all  mit.vatrate.ecy.ind  mit.vatrate.ecy.res  \\\n",
      "0                  0.0                    0                  0.0   \n",
      "1                  0.0                    0                  0.0   \n",
      "2                  0.0                    0                  0.0   \n",
      "3                  0.0                    0                  0.0   \n",
      "4                  0.0                    0                  0.0   \n",
      "\n",
      "   mit.vatrate.oop.all   deaths.base  deaths.red    deaths.pol  \n",
      "0                  0.0           NaN         NaN           NaN  \n",
      "1                  0.0           NaN         NaN           NaN  \n",
      "2                  0.0           NaN         NaN           NaN  \n",
      "3                  0.0           NaN         NaN           NaN  \n",
      "4                  0.0  10858.051761         0.0  10858.051761  \n",
      "\n",
      "[5 rows x 298 columns]\n"
     ]
    }
   ],
   "source": [
    "#importing the necessary package\n",
    "import pandas as pd\n",
    "\n",
    "#specifying the path to your Excel file\n",
    "excel_file_path2 = \"C:/Users/lionet000/Downloads/EXTERNALfuelsubsidiestemplate2023new (2).xlsx\"\n",
    "\n",
    "\n",
    "#specifying the name of the sheet that I want to use. In this case, it is the data sheet with all of the raw variables\n",
    "sheet_name2= \"data\"\n",
    "\n",
    "#reading the Excel file into a pandas DataFrame\n",
    "df = pd.read_excel(excel_file_path2, sheet_name=sheet_name2)\n",
    "\n",
    "#Daving the DataFrame to a new CSV file:\n",
    "df.to_csv('IMF_dataset_new.csv', index=False)\n",
    "\n",
    "#Visualizing the dataset\n",
    "print(df.head())"
   ]
  },
  {
   "cell_type": "code",
   "execution_count": 2,
   "id": "db92bf3e",
   "metadata": {},
   "outputs": [
    {
     "name": "stdout",
     "output_type": "stream",
     "text": [
      "   countryname countrycode      region incomelevel scenario  year  \\\n",
      "0  Afghanistan         AFG  South Asia         LIC       U1  2015   \n",
      "1  Afghanistan         AFG  South Asia         LIC       U1  2016   \n",
      "2  Afghanistan         AFG  South Asia         LIC       U1  2017   \n",
      "3  Afghanistan         AFG  South Asia         LIC       U1  2018   \n",
      "4  Afghanistan         AFG  South Asia         LIC       U1  2019   \n",
      "\n",
      "   mit.sub.tot.tot.all.1  mit.gdp.pre.lvl.1  \n",
      "0             883.242307          22.677444  \n",
      "1             700.006939          20.172496  \n",
      "2             791.769270          20.744658  \n",
      "3            1106.527672          19.744015  \n",
      "4            1284.667420          20.516000  \n"
     ]
    }
   ],
   "source": [
    "#I only keep the columns that I need (to review later)\n",
    "columns_to_keep = ['countryname', 'countrycode', 'region', 'incomelevel', 'scenario', 'year', 'mit.sub.tot.tot.all.1', 'mit.gdp.pre.lvl.1']\n",
    "\n",
    "# Create a new DataFrame with only the specified columns\n",
    "df_subset = df[columns_to_keep]\n",
    "\n",
    "# Now, 'df_subset' contains only the specified columns\n",
    "print(df_subset.head())"
   ]
  },
  {
   "cell_type": "code",
   "execution_count": 3,
   "id": "3d5edae0",
   "metadata": {},
   "outputs": [
    {
     "name": "stdout",
     "output_type": "stream",
     "text": [
      "   countryname countrycode      region incomelevel scenario  year  \\\n",
      "0  Afghanistan         AFG  South Asia         LIC       U1  2015   \n",
      "1  Afghanistan         AFG  South Asia         LIC       U1  2016   \n",
      "2  Afghanistan         AFG  South Asia         LIC       U1  2017   \n",
      "3  Afghanistan         AFG  South Asia         LIC       U1  2018   \n",
      "4  Afghanistan         AFG  South Asia         LIC       U1  2019   \n",
      "\n",
      "   mit.sub.tot.tot.all.1  mit.gdp.pre.lvl.1  subsidies in US $ billions  \n",
      "0             883.242307          22.677444                    0.883242  \n",
      "1             700.006939          20.172496                    0.700007  \n",
      "2             791.769270          20.744658                    0.791769  \n",
      "3            1106.527672          19.744015                    1.106528  \n",
      "4            1284.667420          20.516000                    1.284667  \n"
     ]
    },
    {
     "name": "stderr",
     "output_type": "stream",
     "text": [
      "C:\\Users\\lionet000\\AppData\\Local\\Temp\\ipykernel_19932\\3740368365.py:2: SettingWithCopyWarning: \n",
      "A value is trying to be set on a copy of a slice from a DataFrame.\n",
      "Try using .loc[row_indexer,col_indexer] = value instead\n",
      "\n",
      "See the caveats in the documentation: https://pandas.pydata.org/pandas-docs/stable/user_guide/indexing.html#returning-a-view-versus-a-copy\n",
      "  df_subset['subsidies in US $ billions'] = df_subset['mit.sub.tot.tot.all.1'] / 1000\n"
     ]
    }
   ],
   "source": [
    "#I create a new variable: the total subsides variables in billions (dividing the current variable on fossil fuels, which is i millions, by 1000)\n",
    "df_subset['subsidies in US $ billions'] = df_subset['mit.sub.tot.tot.all.1'] / 1000\n",
    "print(df_subset.head())"
   ]
  },
  {
   "cell_type": "code",
   "execution_count": 4,
   "id": "c41c153e",
   "metadata": {},
   "outputs": [
    {
     "name": "stdout",
     "output_type": "stream",
     "text": [
      "   countryname countrycode      region incomelevel scenario  year  \\\n",
      "0  Afghanistan         AFG  South Asia         LIC       U1  2015   \n",
      "1  Afghanistan         AFG  South Asia         LIC       U1  2016   \n",
      "2  Afghanistan         AFG  South Asia         LIC       U1  2017   \n",
      "3  Afghanistan         AFG  South Asia         LIC       U1  2018   \n",
      "4  Afghanistan         AFG  South Asia         LIC       U1  2019   \n",
      "\n",
      "   mit.sub.tot.tot.all.1  mit.gdp.pre.lvl.1  subsidies in US $ billions  \\\n",
      "0             883.242307          22.677444                    0.883242   \n",
      "1             700.006939          20.172496                    0.700007   \n",
      "2             791.769270          20.744658                    0.791769   \n",
      "3            1106.527672          19.744015                    1.106528   \n",
      "4            1284.667420          20.516000                    1.284667   \n",
      "\n",
      "   subsidies per GDP  \n",
      "0           3.894805  \n",
      "1           3.470106  \n",
      "2           3.816738  \n",
      "3           5.604370  \n",
      "4           6.261783  \n"
     ]
    },
    {
     "name": "stderr",
     "output_type": "stream",
     "text": [
      "C:\\Users\\lionet000\\AppData\\Local\\Temp\\ipykernel_19932\\402935410.py:2: SettingWithCopyWarning: \n",
      "A value is trying to be set on a copy of a slice from a DataFrame.\n",
      "Try using .loc[row_indexer,col_indexer] = value instead\n",
      "\n",
      "See the caveats in the documentation: https://pandas.pydata.org/pandas-docs/stable/user_guide/indexing.html#returning-a-view-versus-a-copy\n",
      "  df_subset['subsidies per GDP'] = df_subset['subsidies in US $ billions'] / df_subset['mit.gdp.pre.lvl.1'] * 100\n"
     ]
    }
   ],
   "source": [
    "#I create a new variable: fossil fuels as a % of total GDP, measured in billions. (I do so by dividing the total fossil fuels in billions by the total GDP)\n",
    "df_subset['subsidies per GDP'] = df_subset['subsidies in US $ billions'] / df_subset['mit.gdp.pre.lvl.1'] * 100\n",
    "print(df_subset.head())"
   ]
  },
  {
   "cell_type": "code",
   "execution_count": 5,
   "id": "b2640a27",
   "metadata": {},
   "outputs": [],
   "source": [
    "#I save the dataset with the new variables\n",
    "df_subset.to_csv('IMF_dataset_new_new.csv', index=False)"
   ]
  },
  {
   "cell_type": "code",
   "execution_count": 6,
   "id": "7d6b99e4",
   "metadata": {},
   "outputs": [
    {
     "ename": "NameError",
     "evalue": "name 'EU_2015_2022' is not defined",
     "output_type": "error",
     "traceback": [
      "\u001b[1;31m---------------------------------------------------------------------------\u001b[0m",
      "\u001b[1;31mNameError\u001b[0m                                 Traceback (most recent call last)",
      "Cell \u001b[1;32mIn[6], line 28\u001b[0m\n\u001b[0;32m     26\u001b[0m EU_2022 \u001b[38;5;241m=\u001b[39m df_EUfinal2[df_EUfinal2[\u001b[38;5;124m'\u001b[39m\u001b[38;5;124myear\u001b[39m\u001b[38;5;124m'\u001b[39m]\u001b[38;5;241m.\u001b[39misin([\u001b[38;5;241m2022\u001b[39m])]\n\u001b[0;32m     27\u001b[0m EU_2022\u001b[38;5;241m.\u001b[39mto_csv(\u001b[38;5;124m'\u001b[39m\u001b[38;5;124mIMF_EU_2022.csv\u001b[39m\u001b[38;5;124m'\u001b[39m, index\u001b[38;5;241m=\u001b[39m\u001b[38;5;28;01mFalse\u001b[39;00m)\n\u001b[1;32m---> 28\u001b[0m \u001b[38;5;28mprint\u001b[39m(EU_2015_2022)\n",
      "\u001b[1;31mNameError\u001b[0m: name 'EU_2015_2022' is not defined"
     ]
    }
   ],
   "source": [
    "#I create a dataset with only the EU countries\n",
    "\n",
    "#I only keep the EU countries\n",
    "values_to_keep = ['Austria', 'Belgium', 'Bulgaria', 'Croatia', 'Cyprus', 'Czechia', 'Denmark', 'Estonia', 'Finland', 'France', 'Germany', 'Greece', 'Hungary', 'Ireland', 'Italy', 'Latvia', 'Lithuania', 'Luxembourg', 'Malta', 'Netherlands', 'Poland', 'Portugal', 'Romania', 'Slovak Republic', 'Slovenia', 'Spain', 'Sweden']\n",
    "df_EU = df_subset[df_subset['countryname'].isin(values_to_keep)]\n",
    "\n",
    "#I only keep the columns that I need (to review later)\n",
    "columns_to_keep2 = ['countryname', 'year', 'subsidies per GDP']\n",
    "\n",
    "# Create a new DataFrame with only the specified columns\n",
    "df_EUfinal = df_EU[columns_to_keep2]\n",
    "\n",
    "#I save the new dataset\n",
    "df_EUfinal.to_csv('IMF_EU.csv', index=False)\n",
    "\n",
    "#Now, I group the dataset by countries, so I that I cane easily look at the fossil fuels values per country. I use the aggregate function \"mean\" because there are duplicates in the dataset\n",
    "EU_result = df_EUfinal.pivot_table(index='year', columns='countryname', values='subsidies per GDP', aggfunc='mean')\n",
    "\n",
    "#I save the dataset\n",
    "EU_result.to_csv('IMF_EU_bycountry.csv', index=True)\n",
    "\n",
    "#I also createa new dataset in which IN onyl keep the year 2015 and 2022 for easier comparison and I save it\n",
    "df_EUfinal2 = df_EUfinal.drop_duplicates(subset=['year', 'countryname'])\n",
    "EU_2015 = df_EUfinal2[df_EUfinal2['year'].isin([2015])]\n",
    "EU_2015.to_csv('IMF_EU_2015.csv', index=False)\n",
    "EU_2022 = df_EUfinal2[df_EUfinal2['year'].isin([2022])]\n",
    "EU_2022.to_csv('IMF_EU_2022.csv', index=False)\n",
    "print(EU_2015_2022)"
   ]
  },
  {
   "cell_type": "code",
   "execution_count": null,
   "id": "33c70d37",
   "metadata": {},
   "outputs": [],
   "source": [
    "#I group the dataset by regions, so I that I cane easily look at the fossil fuels values per region\n",
    "region_aggregate = df_subset.groupby(['year', 'region'])['subsidies per GDP'].mean().reset_index()\n",
    "print(region_aggregate)"
   ]
  },
  {
   "cell_type": "code",
   "execution_count": null,
   "id": "ad7c7461",
   "metadata": {
    "scrolled": true
   },
   "outputs": [],
   "source": [
    "#I change the dataset so that regions beomes a column and it is easier to show the results over time. \n",
    "region_result = region_aggregate.pivot(index='year', columns='region', values='subsidies per GDP')\n",
    "# Display the pivoted result\n",
    "print(region_result)"
   ]
  },
  {
   "cell_type": "code",
   "execution_count": null,
   "id": "842c2bae",
   "metadata": {},
   "outputs": [],
   "source": [
    "#I save the new dataset\n",
    "region_result.to_csv('IMF_dataset_region.csv', index=True)"
   ]
  },
  {
   "cell_type": "code",
   "execution_count": null,
   "id": "f0480c75",
   "metadata": {},
   "outputs": [],
   "source": [
    "filtered_df = df_subset[df_subset['year'].isin([2015, 2022])]\n",
    "\n",
    "# Display the filtered DataFrame\n",
    "print(filtered_df)"
   ]
  },
  {
   "cell_type": "code",
   "execution_count": null,
   "id": "51c61abe",
   "metadata": {},
   "outputs": [],
   "source": [
    "df_without_duplicates = df_subset.drop_duplicates(subset='subsidies in US $ billions')"
   ]
  },
  {
   "cell_type": "code",
   "execution_count": null,
   "id": "0b615230",
   "metadata": {},
   "outputs": [],
   "source": [
    "columns_to_drop = ['countrycode', 'region', 'incomelevel', 'scenario', 'mit.sub.tot.tot.all.1', 'mit.gdp.pre.lvl.1', 'subsidies in US $ billions']\n",
    "df_dropped_multiple = df_without_duplicates.drop(columns=columns_to_drop)\n",
    "print(df_dropped_multiple)"
   ]
  },
  {
   "cell_type": "code",
   "execution_count": null,
   "id": "3a1a426d",
   "metadata": {},
   "outputs": [],
   "source": [
    "#I group the dataset by regions, so I that I cane easily look at the fossil fuels values per region\n",
    "df_subset_noduplicates = df_subset.drop_duplicates\n",
    "region_aggregate_subsidies = df_subset_noduplicates.groupby(['year', 'region'])['subsidies in US $ billions'].sum().reset_index()\n",
    "region_result_subsidies = region_aggregate_subsidies.pivot(index='year', columns='region', values='subsidies in US $ billions')\n",
    "#I save the new dataset\n",
    "region_result_subsidies.to_csv('IMF_dataset_region_subsidies.csv', index=True)"
   ]
  },
  {
   "cell_type": "code",
   "execution_count": null,
   "id": "b7278c03",
   "metadata": {},
   "outputs": [],
   "source": [
    "#I group the dataset by regions, so I that I cane easily look at the fossil fuels values per region\n",
    "region_aggregate_subsidies = df_without_duplicates.groupby(['year', 'region'])['subsidies in US $ billions'].sum().reset_index()\n",
    "#I save the new dataset\n",
    "region_result_subsidies.to_csv('IMF_dataset_region_subsidies.csv', index=False)"
   ]
  },
  {
   "cell_type": "code",
   "execution_count": null,
   "id": "198c4181",
   "metadata": {},
   "outputs": [],
   "source": [
    "df_subset_noduplicates = df_subset.groupby(['year', 'region']).apply(lambda x: x.drop_duplicates()).reset_index(drop=True)\n",
    "\n",
    "# Aggregate subsidies for each 'year' and 'region'\n",
    "region_aggregate_subsidies = df_subset_noduplicates.groupby(['year', 'region'])['subsidies in US $ billions'].sum().reset_index()\n",
    "\n",
    "# Pivot the DataFrame for better visibility\n",
    "region_result_subsidies = region_aggregate_subsidies.pivot(index='year', columns='region', values='subsidies in US $ billions')\n",
    "\n",
    "# Save the new dataset to a CSV file\n",
    "region_result_subsidies.to_csv('IMF_dataset_region_subsidies.csv', index=True)"
   ]
  },
  {
   "cell_type": "code",
   "execution_count": null,
   "id": "73ac51b1",
   "metadata": {},
   "outputs": [],
   "source": [
    "print(region_aggregate_subsidies)"
   ]
  },
  {
   "cell_type": "code",
   "execution_count": null,
   "id": "58f7cf88",
   "metadata": {},
   "outputs": [],
   "source": [
    "df_subset2 = df_subset.drop_duplicates(subset=['year', 'region'])\n",
    "columns_to_keep = ['region', 'year', 'subsidies in US $ billions']\n",
    "\n",
    "# Create a new DataFrame with only the specified columns\n",
    "df_subset3 = df_subset2[columns_to_keep]\n",
    "region_year = df_subset3.groupby(['year', 'region'])['subsidies in US $ billions'].sum().reset_index()\n",
    "region_year_subsidies = region_year.pivot(index='year', columns='region', values='subsidies in US $ billions')\n",
    "\n",
    "# Save the new dataset to a CSV file\n",
    "region_year_subsidies.to_csv('IMF_dataset_region_subsidies.csv', index=True)"
   ]
  },
  {
   "cell_type": "code",
   "execution_count": null,
   "id": "b78058cc",
   "metadata": {},
   "outputs": [],
   "source": [
    "print(region_year_subsidies)"
   ]
  },
  {
   "cell_type": "code",
   "execution_count": null,
   "id": "477260ed",
   "metadata": {},
   "outputs": [],
   "source": [
    "df_country_subsidy = df_subset.drop_duplicates(subset=['year', 'countryname'])\n",
    "columns_to_keep = ['countryname', 'year', 'subsidies per GDP']\n",
    "\n",
    "df_country_subsidy = df_subset[columns_to_keep]\n",
    "df_country_subsidy = df_country_subsidy.pivot(index='year', columns='countryname', values='subsidies per GDP')\n",
    "df_country_subsidy.to_csv('IMF_dataset_country_subsidy.csv', index=True)\n",
    "print(df_country_subsidy)"
   ]
  },
  {
   "cell_type": "code",
   "execution_count": null,
   "id": "e7fa156e",
   "metadata": {},
   "outputs": [],
   "source": []
  }
 ],
 "metadata": {
  "kernelspec": {
   "display_name": "Python 3 (ipykernel)",
   "language": "python",
   "name": "python3"
  },
  "language_info": {
   "codemirror_mode": {
    "name": "ipython",
    "version": 3
   },
   "file_extension": ".py",
   "mimetype": "text/x-python",
   "name": "python",
   "nbconvert_exporter": "python",
   "pygments_lexer": "ipython3",
   "version": "3.11.4"
  }
 },
 "nbformat": 4,
 "nbformat_minor": 5
}
